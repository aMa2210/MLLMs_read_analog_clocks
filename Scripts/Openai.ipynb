{
 "cells": [
  {
   "cell_type": "code",
   "execution_count": null,
   "id": "e8e22013",
   "metadata": {},
   "outputs": [],
   "source": [
    "from datasets import load_dataset\n",
    "\n",
    "ds = load_dataset(\"oliverj990/clock-faces-v1-times\")\n",
    "dataset = ds[\"train\"]"
   ]
  },
  {
   "cell_type": "code",
   "execution_count": null,
   "id": "a500b529-a73f-4a28-8246-2327c3476e6b",
   "metadata": {},
   "outputs": [],
   "source": [
    "import pandas as pd\n",
    "import os\n",
    "from tqdm import tqdm\n",
    "from PIL import Image\n",
    "from openai import OpenAI\n",
    "from io import BytesIO\n",
    "import base64\n",
    "\n",
    "client = OpenAI(api_key=\"your/api-key\")\n",
    "\n"
   ]
  },
  {
   "cell_type": "code",
   "execution_count": null,
   "id": "3fd35733-7295-469f-955c-9a96954de516",
   "metadata": {},
   "outputs": [],
   "source": [
    "from PIL import Image\n",
    "import pandas as pd\n",
    "import os\n",
    "from tqdm import tqdm\n",
    "\n",
    "\n",
    "model_raw_name = 'gpt4o'\n",
    "\n",
    "prompt = '''What time is shown on the clock in the given image?'''\n",
    "\n",
    "output_path = f'Results/real_clocks/Test_{model_raw_name}_FT_Results.xlsx'\n",
    "df = pd.DataFrame(columns=['answer', f'answer-{model_raw_name}'])\n",
    "\n",
    "\n",
    "def pil_image_to_base64(image: Image.Image) -> str:\n",
    "    buffered = BytesIO()\n",
    "    image.save(buffered, format=\"PNG\")\n",
    "    return base64.b64encode(buffered.getvalue()).decode(\"utf-8\")\n",
    "\n",
    "\n",
    "for index, row in tqdm(enumerate(dataset), total = len(dataset)):\n",
    "    if os.path.exists(output_path):\n",
    "        continue\n",
    "    image = row['image']\n",
    "    image = image.convert(\"RGB\")\n",
    "    base64_image = pil_image_to_base64(image)\n",
    "    response = client.chat.completions.create(\n",
    "            model='gpt-4.1-2025-04-14',\n",
    "            messages=[\n",
    "                {\n",
    "                    \"role\": \"user\",\n",
    "                    \"content\": [\n",
    "                        {\"type\": \"text\", \"text\": prompt},\n",
    "                        {\n",
    "                            \"type\": \"image_url\",\n",
    "                            \"image_url\": {\n",
    "                                \"url\": f\"data:image/png;base64,{base64_image}\"\n",
    "                            }\n",
    "                        }\n",
    "                    ]\n",
    "                }\n",
    "            ],\n",
    "            max_tokens=500,\n",
    "            temperature=0,\n",
    "    )\n",
    "    output_text = response.choices[0].message.content\n",
    "    # print(output_text)\n",
    "    \n",
    "    df.at[index, 'answer'] = row['time']\n",
    "    df.at[index, f'answer-{model_raw_name}'] = output_text\n",
    "    # print(decoded)\n",
    "        \n",
    "df.to_excel(output_path, index=False, engine='openpyxl')"
   ]
  },
  {
   "cell_type": "code",
   "execution_count": null,
   "id": "1c5578bf-7776-435e-acb7-c152c072e50c",
   "metadata": {},
   "outputs": [],
   "source": []
  }
 ],
 "metadata": {
  "kernelspec": {
   "display_name": "Python 3 (ipykernel)",
   "language": "python",
   "name": "python3"
  },
  "language_info": {
   "codemirror_mode": {
    "name": "ipython",
    "version": 3
   },
   "file_extension": ".py",
   "mimetype": "text/x-python",
   "name": "python",
   "nbconvert_exporter": "python",
   "pygments_lexer": "ipython3",
   "version": "3.10.9"
  }
 },
 "nbformat": 4,
 "nbformat_minor": 5
}
